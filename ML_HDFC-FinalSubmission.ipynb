{
 "cells": [
  {
   "cell_type": "code",
   "execution_count": 1,
   "metadata": {},
   "outputs": [],
   "source": [
    "import matplotlib.pyplot as plt\n",
    "import seaborn as sns\n",
    "%matplotlib inline\n",
    "import pandas as pd\n",
    "import numpy as np\n",
    "import time"
   ]
  },
  {
   "cell_type": "code",
   "execution_count": 2,
   "metadata": {},
   "outputs": [],
   "source": [
    "df=pd.read_csv('Train.csv',low_memory=False)"
   ]
  },
  {
   "cell_type": "code",
   "execution_count": 3,
   "metadata": {},
   "outputs": [
    {
     "data": {
      "text/html": [
       "<div>\n",
       "<style scoped>\n",
       "    .dataframe tbody tr th:only-of-type {\n",
       "        vertical-align: middle;\n",
       "    }\n",
       "\n",
       "    .dataframe tbody tr th {\n",
       "        vertical-align: top;\n",
       "    }\n",
       "\n",
       "    .dataframe thead th {\n",
       "        text-align: right;\n",
       "    }\n",
       "</style>\n",
       "<table border=\"1\" class=\"dataframe\">\n",
       "  <thead>\n",
       "    <tr style=\"text-align: right;\">\n",
       "      <th></th>\n",
       "      <th>Col1</th>\n",
       "      <th>Col2</th>\n",
       "      <th>Col3</th>\n",
       "      <th>Col4</th>\n",
       "      <th>Col5</th>\n",
       "      <th>Col6</th>\n",
       "      <th>Col7</th>\n",
       "      <th>Col8</th>\n",
       "      <th>Col9</th>\n",
       "      <th>Col10</th>\n",
       "      <th>...</th>\n",
       "      <th>Col2388</th>\n",
       "      <th>Col2389</th>\n",
       "      <th>Col2390</th>\n",
       "      <th>Col2391</th>\n",
       "      <th>Col2392</th>\n",
       "      <th>Col2393</th>\n",
       "      <th>Col2394</th>\n",
       "      <th>Col2395</th>\n",
       "      <th>Col2396</th>\n",
       "      <th>Col2397</th>\n",
       "    </tr>\n",
       "  </thead>\n",
       "  <tbody>\n",
       "    <tr>\n",
       "      <th>0</th>\n",
       "      <td>RIGHGSN</td>\n",
       "      <td>1</td>\n",
       "      <td>1.086711e+04</td>\n",
       "      <td>8.648345e+03</td>\n",
       "      <td>1.576618e+04</td>\n",
       "      <td>2.890466e+04</td>\n",
       "      <td>5.273655e+03</td>\n",
       "      <td>2.346153e+04</td>\n",
       "      <td>1.285597e+04</td>\n",
       "      <td>2.871509e+04</td>\n",
       "      <td>...</td>\n",
       "      <td>0</td>\n",
       "      <td>1</td>\n",
       "      <td>0</td>\n",
       "      <td>1</td>\n",
       "      <td>214.0</td>\n",
       "      <td>214.0</td>\n",
       "      <td>68.0</td>\n",
       "      <td>22.0</td>\n",
       "      <td>22.0</td>\n",
       "      <td>7.0</td>\n",
       "    </tr>\n",
       "    <tr>\n",
       "      <th>1</th>\n",
       "      <td>RIMHI5ZGP</td>\n",
       "      <td>0</td>\n",
       "      <td>2.584312e+05</td>\n",
       "      <td>2.179633e+05</td>\n",
       "      <td>1.866287e+05</td>\n",
       "      <td>1.866287e+05</td>\n",
       "      <td>2.154519e+05</td>\n",
       "      <td>1.923615e+05</td>\n",
       "      <td>1.726538e+05</td>\n",
       "      <td>1.666974e+05</td>\n",
       "      <td>...</td>\n",
       "      <td>0</td>\n",
       "      <td>0</td>\n",
       "      <td>0</td>\n",
       "      <td>0</td>\n",
       "      <td>41.0</td>\n",
       "      <td>41.0</td>\n",
       "      <td>38.0</td>\n",
       "      <td>12.0</td>\n",
       "      <td>12.0</td>\n",
       "      <td>11.0</td>\n",
       "    </tr>\n",
       "    <tr>\n",
       "      <th>2</th>\n",
       "      <td>RIHOG1SZU</td>\n",
       "      <td>0</td>\n",
       "      <td>1.459355e+07</td>\n",
       "      <td>1.260060e+07</td>\n",
       "      <td>1.100315e+07</td>\n",
       "      <td>1.010315e+07</td>\n",
       "      <td>1.879882e+07</td>\n",
       "      <td>1.514035e+07</td>\n",
       "      <td>5.320778e+06</td>\n",
       "      <td>6.906324e+06</td>\n",
       "      <td>...</td>\n",
       "      <td>0</td>\n",
       "      <td>1</td>\n",
       "      <td>1</td>\n",
       "      <td>0</td>\n",
       "      <td>378.0</td>\n",
       "      <td>378.0</td>\n",
       "      <td>310.0</td>\n",
       "      <td>21.0</td>\n",
       "      <td>21.0</td>\n",
       "      <td>16.0</td>\n",
       "    </tr>\n",
       "    <tr>\n",
       "      <th>3</th>\n",
       "      <td>RIHOLMQWU</td>\n",
       "      <td>0</td>\n",
       "      <td>6.727043e+05</td>\n",
       "      <td>8.181116e+05</td>\n",
       "      <td>6.794893e+05</td>\n",
       "      <td>6.794893e+05</td>\n",
       "      <td>8.257254e+05</td>\n",
       "      <td>7.605803e+05</td>\n",
       "      <td>3.577134e+05</td>\n",
       "      <td>4.236612e+05</td>\n",
       "      <td>...</td>\n",
       "      <td>0</td>\n",
       "      <td>0</td>\n",
       "      <td>0</td>\n",
       "      <td>0</td>\n",
       "      <td>702.0</td>\n",
       "      <td>702.0</td>\n",
       "      <td>644.0</td>\n",
       "      <td>951.0</td>\n",
       "      <td>951.0</td>\n",
       "      <td>743.0</td>\n",
       "    </tr>\n",
       "    <tr>\n",
       "      <th>4</th>\n",
       "      <td>RIHO584ET</td>\n",
       "      <td>0</td>\n",
       "      <td>-1.218742e+06</td>\n",
       "      <td>-3.005361e+06</td>\n",
       "      <td>-1.666241e+05</td>\n",
       "      <td>-2.403574e+06</td>\n",
       "      <td>2.583183e+06</td>\n",
       "      <td>2.086546e+06</td>\n",
       "      <td>5.938358e+06</td>\n",
       "      <td>5.446532e+06</td>\n",
       "      <td>...</td>\n",
       "      <td>0</td>\n",
       "      <td>0</td>\n",
       "      <td>0</td>\n",
       "      <td>0</td>\n",
       "      <td>1305.0</td>\n",
       "      <td>1305.0</td>\n",
       "      <td>1211.0</td>\n",
       "      <td>2205.0</td>\n",
       "      <td>2205.0</td>\n",
       "      <td>1831.0</td>\n",
       "    </tr>\n",
       "  </tbody>\n",
       "</table>\n",
       "<p>5 rows × 2395 columns</p>\n",
       "</div>"
      ],
      "text/plain": [
       "        Col1  Col2          Col3          Col4          Col5          Col6  \\\n",
       "0    RIGHGSN     1  1.086711e+04  8.648345e+03  1.576618e+04  2.890466e+04   \n",
       "1  RIMHI5ZGP     0  2.584312e+05  2.179633e+05  1.866287e+05  1.866287e+05   \n",
       "2  RIHOG1SZU     0  1.459355e+07  1.260060e+07  1.100315e+07  1.010315e+07   \n",
       "3  RIHOLMQWU     0  6.727043e+05  8.181116e+05  6.794893e+05  6.794893e+05   \n",
       "4  RIHO584ET     0 -1.218742e+06 -3.005361e+06 -1.666241e+05 -2.403574e+06   \n",
       "\n",
       "           Col7          Col8          Col9         Col10  ...  Col2388  \\\n",
       "0  5.273655e+03  2.346153e+04  1.285597e+04  2.871509e+04  ...        0   \n",
       "1  2.154519e+05  1.923615e+05  1.726538e+05  1.666974e+05  ...        0   \n",
       "2  1.879882e+07  1.514035e+07  5.320778e+06  6.906324e+06  ...        0   \n",
       "3  8.257254e+05  7.605803e+05  3.577134e+05  4.236612e+05  ...        0   \n",
       "4  2.583183e+06  2.086546e+06  5.938358e+06  5.446532e+06  ...        0   \n",
       "\n",
       "   Col2389  Col2390  Col2391  Col2392  Col2393  Col2394  Col2395  Col2396  \\\n",
       "0        1        0        1    214.0    214.0     68.0     22.0     22.0   \n",
       "1        0        0        0     41.0     41.0     38.0     12.0     12.0   \n",
       "2        1        1        0    378.0    378.0    310.0     21.0     21.0   \n",
       "3        0        0        0    702.0    702.0    644.0    951.0    951.0   \n",
       "4        0        0        0   1305.0   1305.0   1211.0   2205.0   2205.0   \n",
       "\n",
       "   Col2397  \n",
       "0      7.0  \n",
       "1     11.0  \n",
       "2     16.0  \n",
       "3    743.0  \n",
       "4   1831.0  \n",
       "\n",
       "[5 rows x 2395 columns]"
      ]
     },
     "execution_count": 3,
     "metadata": {},
     "output_type": "execute_result"
    }
   ],
   "source": [
    "df.head()"
   ]
  },
  {
   "cell_type": "code",
   "execution_count": 4,
   "metadata": {},
   "outputs": [
    {
     "data": {
      "text/plain": [
       "0    15760\n",
       "1     1761\n",
       "Name: Col2, dtype: int64"
      ]
     },
     "execution_count": 4,
     "metadata": {},
     "output_type": "execute_result"
    }
   ],
   "source": [
    "df['Col2'].value_counts()"
   ]
  },
  {
   "cell_type": "code",
   "execution_count": 5,
   "metadata": {},
   "outputs": [
    {
     "name": "stdout",
     "output_type": "stream",
     "text": [
      "<class 'pandas.core.frame.DataFrame'>\n",
      "RangeIndex: 17521 entries, 0 to 17520\n",
      "Columns: 2395 entries, Col1 to Col2397\n",
      "dtypes: float64(844), int64(1548), object(3)\n",
      "memory usage: 320.2+ MB\n"
     ]
    }
   ],
   "source": [
    "df.info()"
   ]
  },
  {
   "cell_type": "code",
   "execution_count": 6,
   "metadata": {},
   "outputs": [],
   "source": [
    "df['Col747'].replace(r'-', np.nan, regex=True,inplace=True)"
   ]
  },
  {
   "cell_type": "code",
   "execution_count": 7,
   "metadata": {},
   "outputs": [
    {
     "data": {
      "text/plain": [
       "0    489\n",
       "1      2\n",
       "5      1\n",
       "3      1\n",
       "Name: Col747, dtype: int64"
      ]
     },
     "execution_count": 7,
     "metadata": {},
     "output_type": "execute_result"
    }
   ],
   "source": [
    "df['Col747'].value_counts()"
   ]
  },
  {
   "cell_type": "code",
   "execution_count": 8,
   "metadata": {},
   "outputs": [
    {
     "data": {
      "text/plain": [
       "0    479\n",
       "-    144\n",
       "5      1\n",
       "Name: Col836, dtype: int64"
      ]
     },
     "execution_count": 8,
     "metadata": {},
     "output_type": "execute_result"
    }
   ],
   "source": [
    "df['Col836'].value_counts()"
   ]
  },
  {
   "cell_type": "code",
   "execution_count": 9,
   "metadata": {},
   "outputs": [],
   "source": [
    "df['Col836'].replace(r'-', np.nan, regex=True,inplace=True)"
   ]
  },
  {
   "cell_type": "code",
   "execution_count": 10,
   "metadata": {},
   "outputs": [
    {
     "data": {
      "text/plain": [
       "0    479\n",
       "5      1\n",
       "Name: Col836, dtype: int64"
      ]
     },
     "execution_count": 10,
     "metadata": {},
     "output_type": "execute_result"
    }
   ],
   "source": [
    "df['Col836'].value_counts()"
   ]
  },
  {
   "cell_type": "code",
   "execution_count": 11,
   "metadata": {},
   "outputs": [
    {
     "name": "stdout",
     "output_type": "stream",
     "text": [
      "<class 'pandas.core.frame.DataFrame'>\n",
      "RangeIndex: 17521 entries, 0 to 17520\n",
      "Columns: 2395 entries, Col1 to Col2397\n",
      "dtypes: float64(844), int64(1548), object(3)\n",
      "memory usage: 320.2+ MB\n"
     ]
    }
   ],
   "source": [
    "df.info()"
   ]
  },
  {
   "cell_type": "code",
   "execution_count": 12,
   "metadata": {},
   "outputs": [
    {
     "data": {
      "text/plain": [
       "(17521, 2395)"
      ]
     },
     "execution_count": 12,
     "metadata": {},
     "output_type": "execute_result"
    }
   ],
   "source": [
    "df.shape"
   ]
  },
  {
   "cell_type": "code",
   "execution_count": 13,
   "metadata": {},
   "outputs": [
    {
     "name": "stdout",
     "output_type": "stream",
     "text": [
      "<class 'pandas.core.frame.DataFrame'>\n",
      "RangeIndex: 17521 entries, 0 to 17520\n",
      "Columns: 2395 entries, Col1 to Col2397\n",
      "dtypes: float64(844), int64(1548), object(3)\n",
      "memory usage: 320.2+ MB\n"
     ]
    }
   ],
   "source": [
    "df.info()"
   ]
  },
  {
   "cell_type": "code",
   "execution_count": 14,
   "metadata": {},
   "outputs": [],
   "source": [
    "df[\"Col747\"] = pd.to_numeric( df[\"Col747\"], errors = 'corece' )"
   ]
  },
  {
   "cell_type": "code",
   "execution_count": 15,
   "metadata": {},
   "outputs": [],
   "source": [
    "df[\"Col836\"] = pd.to_numeric( df[\"Col836\"], errors = 'corece' )"
   ]
  },
  {
   "cell_type": "code",
   "execution_count": 16,
   "metadata": {},
   "outputs": [
    {
     "name": "stdout",
     "output_type": "stream",
     "text": [
      "<class 'pandas.core.frame.DataFrame'>\n",
      "RangeIndex: 17521 entries, 0 to 17520\n",
      "Columns: 2395 entries, Col1 to Col2397\n",
      "dtypes: float64(846), int64(1548), object(1)\n",
      "memory usage: 320.2+ MB\n"
     ]
    }
   ],
   "source": [
    "df.info()"
   ]
  },
  {
   "cell_type": "code",
   "execution_count": 17,
   "metadata": {},
   "outputs": [],
   "source": [
    "X1=df.drop(['Col1','Col2'], axis=1)"
   ]
  },
  {
   "cell_type": "code",
   "execution_count": 18,
   "metadata": {},
   "outputs": [],
   "source": [
    "y=df['Col2']"
   ]
  },
  {
   "cell_type": "code",
   "execution_count": 19,
   "metadata": {},
   "outputs": [
    {
     "name": "stdout",
     "output_type": "stream",
     "text": [
      "<class 'pandas.core.frame.DataFrame'>\n",
      "RangeIndex: 17521 entries, 0 to 17520\n",
      "Columns: 2393 entries, Col3 to Col2397\n",
      "dtypes: float64(846), int64(1547)\n",
      "memory usage: 319.9 MB\n"
     ]
    }
   ],
   "source": [
    "X1.info()"
   ]
  },
  {
   "cell_type": "markdown",
   "metadata": {},
   "source": [
    "## Pre Processing"
   ]
  },
  {
   "cell_type": "code",
   "execution_count": 20,
   "metadata": {},
   "outputs": [],
   "source": [
    "from sklearn.preprocessing import Imputer\n",
    "from sklearn.impute import SimpleImputer\n",
    "fill_NaN = SimpleImputer(missing_values=np.nan,strategy='median')\n",
    "X = pd.DataFrame(fill_NaN.fit_transform(X1))\n",
    "X.columns = X1.columns\n",
    "X.index = X1.index"
   ]
  },
  {
   "cell_type": "markdown",
   "metadata": {},
   "source": [
    "## Final Model"
   ]
  },
  {
   "cell_type": "code",
   "execution_count": 21,
   "metadata": {},
   "outputs": [],
   "source": [
    "import lightgbm as lgb\n",
    "from lightgbm import LGBMModel,LGBMClassifier\n",
    "lgbm = LGBMClassifier(objective='binary', n_estimator=150,random_state=0,reg_alpha=1,reg_lambda=5,learning_rate=0.01,is_unbalance=True)"
   ]
  },
  {
   "cell_type": "code",
   "execution_count": 22,
   "metadata": {},
   "outputs": [
    {
     "name": "stdout",
     "output_type": "stream",
     "text": [
      "Fit time: 13.186\n"
     ]
    }
   ],
   "source": [
    "start = time.time()\n",
    "lgbm.fit(X,y)\n",
    "end = time.time()\n",
    "fit_time = (end - start)\n",
    "print('Fit time: {}'.format(round(fit_time, 3)))"
   ]
  },
  {
   "cell_type": "markdown",
   "metadata": {},
   "source": [
    "## Test File"
   ]
  },
  {
   "cell_type": "code",
   "execution_count": 23,
   "metadata": {},
   "outputs": [],
   "source": [
    "df1=pd.read_csv('Test.csv',low_memory=False)"
   ]
  },
  {
   "cell_type": "code",
   "execution_count": 24,
   "metadata": {},
   "outputs": [
    {
     "data": {
      "text/html": [
       "<div>\n",
       "<style scoped>\n",
       "    .dataframe tbody tr th:only-of-type {\n",
       "        vertical-align: middle;\n",
       "    }\n",
       "\n",
       "    .dataframe tbody tr th {\n",
       "        vertical-align: top;\n",
       "    }\n",
       "\n",
       "    .dataframe thead th {\n",
       "        text-align: right;\n",
       "    }\n",
       "</style>\n",
       "<table border=\"1\" class=\"dataframe\">\n",
       "  <thead>\n",
       "    <tr style=\"text-align: right;\">\n",
       "      <th></th>\n",
       "      <th>Col1</th>\n",
       "      <th>Col3</th>\n",
       "      <th>Col4</th>\n",
       "      <th>Col5</th>\n",
       "      <th>Col6</th>\n",
       "      <th>Col7</th>\n",
       "      <th>Col8</th>\n",
       "      <th>Col9</th>\n",
       "      <th>Col10</th>\n",
       "      <th>Col11</th>\n",
       "      <th>...</th>\n",
       "      <th>Col2388</th>\n",
       "      <th>Col2389</th>\n",
       "      <th>Col2390</th>\n",
       "      <th>Col2391</th>\n",
       "      <th>Col2392</th>\n",
       "      <th>Col2393</th>\n",
       "      <th>Col2394</th>\n",
       "      <th>Col2395</th>\n",
       "      <th>Col2396</th>\n",
       "      <th>Col2397</th>\n",
       "    </tr>\n",
       "  </thead>\n",
       "  <tbody>\n",
       "    <tr>\n",
       "      <th>0</th>\n",
       "      <td>RIGD58ZWD</td>\n",
       "      <td>8.167140e+04</td>\n",
       "      <td>86145.420</td>\n",
       "      <td>7.532296e+04</td>\n",
       "      <td>7.532296e+04</td>\n",
       "      <td>112517.400</td>\n",
       "      <td>1.002778e+05</td>\n",
       "      <td>2.038915e+04</td>\n",
       "      <td>3.053853e+04</td>\n",
       "      <td>8.395911e+04</td>\n",
       "      <td>...</td>\n",
       "      <td>0</td>\n",
       "      <td>0</td>\n",
       "      <td>0</td>\n",
       "      <td>0</td>\n",
       "      <td>44.0</td>\n",
       "      <td>44.0</td>\n",
       "      <td>23.0</td>\n",
       "      <td>41.0</td>\n",
       "      <td>41.0</td>\n",
       "      <td>36.0</td>\n",
       "    </tr>\n",
       "    <tr>\n",
       "      <th>1</th>\n",
       "      <td>RIH660YDS</td>\n",
       "      <td>-1.362824e+07</td>\n",
       "      <td>-4493042.782</td>\n",
       "      <td>-3.777257e+06</td>\n",
       "      <td>-4.493043e+06</td>\n",
       "      <td>-4749764.373</td>\n",
       "      <td>-4.749764e+06</td>\n",
       "      <td>1.147556e+07</td>\n",
       "      <td>1.147556e+07</td>\n",
       "      <td>1.272055e+07</td>\n",
       "      <td>...</td>\n",
       "      <td>1</td>\n",
       "      <td>1</td>\n",
       "      <td>2</td>\n",
       "      <td>2</td>\n",
       "      <td>1234.0</td>\n",
       "      <td>1234.0</td>\n",
       "      <td>680.0</td>\n",
       "      <td>154.0</td>\n",
       "      <td>153.0</td>\n",
       "      <td>86.0</td>\n",
       "    </tr>\n",
       "  </tbody>\n",
       "</table>\n",
       "<p>2 rows × 2394 columns</p>\n",
       "</div>"
      ],
      "text/plain": [
       "        Col1          Col3         Col4          Col5          Col6  \\\n",
       "0  RIGD58ZWD  8.167140e+04    86145.420  7.532296e+04  7.532296e+04   \n",
       "1  RIH660YDS -1.362824e+07 -4493042.782 -3.777257e+06 -4.493043e+06   \n",
       "\n",
       "          Col7          Col8          Col9         Col10         Col11  ...  \\\n",
       "0   112517.400  1.002778e+05  2.038915e+04  3.053853e+04  8.395911e+04  ...   \n",
       "1 -4749764.373 -4.749764e+06  1.147556e+07  1.147556e+07  1.272055e+07  ...   \n",
       "\n",
       "   Col2388  Col2389  Col2390  Col2391  Col2392  Col2393  Col2394  Col2395  \\\n",
       "0        0        0        0        0     44.0     44.0     23.0     41.0   \n",
       "1        1        1        2        2   1234.0   1234.0    680.0    154.0   \n",
       "\n",
       "   Col2396  Col2397  \n",
       "0     41.0     36.0  \n",
       "1    153.0     86.0  \n",
       "\n",
       "[2 rows x 2394 columns]"
      ]
     },
     "execution_count": 24,
     "metadata": {},
     "output_type": "execute_result"
    }
   ],
   "source": [
    "df1.head(2)"
   ]
  },
  {
   "cell_type": "code",
   "execution_count": 25,
   "metadata": {},
   "outputs": [
    {
     "name": "stdout",
     "output_type": "stream",
     "text": [
      "<class 'pandas.core.frame.DataFrame'>\n",
      "RangeIndex: 20442 entries, 0 to 20441\n",
      "Columns: 2394 entries, Col1 to Col2397\n",
      "dtypes: float64(837), int64(1545), object(12)\n",
      "memory usage: 373.4+ MB\n"
     ]
    }
   ],
   "source": [
    "df1.info()"
   ]
  },
  {
   "cell_type": "code",
   "execution_count": 26,
   "metadata": {},
   "outputs": [],
   "source": [
    "objects = df1.select_dtypes(include=['object'])"
   ]
  },
  {
   "cell_type": "code",
   "execution_count": 27,
   "metadata": {},
   "outputs": [
    {
     "data": {
      "text/plain": [
       "Index(['Col1', 'Col702', 'Col733', 'Col742', 'Col754', 'Col763', 'Col791',\n",
       "       'Col813', 'Col822', 'Col831', 'Col843', 'Col852'],\n",
       "      dtype='object')"
      ]
     },
     "execution_count": 27,
     "metadata": {},
     "output_type": "execute_result"
    }
   ],
   "source": [
    "objects.columns"
   ]
  },
  {
   "cell_type": "code",
   "execution_count": 28,
   "metadata": {},
   "outputs": [],
   "source": [
    "df1['Col702'].replace(r'-', np.nan, regex=True,inplace=True)\n",
    "df1[\"Col702\"] = pd.to_numeric( df1[\"Col702\"], errors = 'corece' )"
   ]
  },
  {
   "cell_type": "code",
   "execution_count": 29,
   "metadata": {},
   "outputs": [],
   "source": [
    "df1['Col733'].replace(r'-', np.nan, regex=True,inplace=True)\n",
    "df1[\"Col733\"] = pd.to_numeric( df1[\"Col733\"], errors = 'corece' )"
   ]
  },
  {
   "cell_type": "code",
   "execution_count": 30,
   "metadata": {},
   "outputs": [],
   "source": [
    "df1['Col742'].replace(r'-', np.nan, regex=True,inplace=True)\n",
    "df1[\"Col742\"] = pd.to_numeric( df1[\"Col742\"], errors = 'corece' )"
   ]
  },
  {
   "cell_type": "code",
   "execution_count": 31,
   "metadata": {},
   "outputs": [],
   "source": [
    "df1['Col754'].replace(r'-', np.nan, regex=True,inplace=True)\n",
    "df1[\"Col754\"] = pd.to_numeric( df1[\"Col754\"], errors = 'corece' )"
   ]
  },
  {
   "cell_type": "code",
   "execution_count": 32,
   "metadata": {},
   "outputs": [],
   "source": [
    "df1['Col763'].replace(r'-', np.nan, regex=True,inplace=True)\n",
    "df1[\"Col763\"] = pd.to_numeric( df1[\"Col763\"], errors = 'corece' )"
   ]
  },
  {
   "cell_type": "code",
   "execution_count": 33,
   "metadata": {},
   "outputs": [],
   "source": [
    "df1['Col791'].replace(r'-', np.nan, regex=True,inplace=True)\n",
    "df1[\"Col791\"] = pd.to_numeric( df1[\"Col791\"], errors = 'corece' )"
   ]
  },
  {
   "cell_type": "code",
   "execution_count": 34,
   "metadata": {},
   "outputs": [],
   "source": [
    "df1['Col813'].replace(r'-', np.nan, regex=True,inplace=True)\n",
    "df1[\"Col813\"] = pd.to_numeric( df1[\"Col813\"], errors = 'corece' )"
   ]
  },
  {
   "cell_type": "code",
   "execution_count": 35,
   "metadata": {},
   "outputs": [],
   "source": [
    "df1['Col822'].replace(r'-', np.nan, regex=True,inplace=True)\n",
    "df1[\"Col822\"] = pd.to_numeric( df1[\"Col822\"], errors = 'corece' )"
   ]
  },
  {
   "cell_type": "code",
   "execution_count": 36,
   "metadata": {},
   "outputs": [],
   "source": [
    "df1['Col831'].replace(r'-', np.nan, regex=True,inplace=True)\n",
    "df1[\"Col831\"] = pd.to_numeric( df1[\"Col831\"], errors = 'corece' )"
   ]
  },
  {
   "cell_type": "code",
   "execution_count": 37,
   "metadata": {},
   "outputs": [],
   "source": [
    "df1['Col843'].replace(r'-', np.nan, regex=True,inplace=True)\n",
    "df1[\"Col843\"] = pd.to_numeric( df1[\"Col843\"], errors = 'corece' )"
   ]
  },
  {
   "cell_type": "code",
   "execution_count": 38,
   "metadata": {},
   "outputs": [],
   "source": [
    "df1['Col852'].replace(r'-', np.nan, regex=True,inplace=True)\n",
    "df1[\"Col852\"] = pd.to_numeric( df1[\"Col852\"], errors = 'corece' )"
   ]
  },
  {
   "cell_type": "code",
   "execution_count": 39,
   "metadata": {},
   "outputs": [
    {
     "name": "stdout",
     "output_type": "stream",
     "text": [
      "<class 'pandas.core.frame.DataFrame'>\n",
      "RangeIndex: 20442 entries, 0 to 20441\n",
      "Columns: 2394 entries, Col1 to Col2397\n",
      "dtypes: float64(848), int64(1545), object(1)\n",
      "memory usage: 373.4+ MB\n"
     ]
    }
   ],
   "source": [
    "df1.info()"
   ]
  },
  {
   "cell_type": "code",
   "execution_count": 40,
   "metadata": {},
   "outputs": [],
   "source": [
    "X2=df1.drop(['Col1'], axis=1)"
   ]
  },
  {
   "cell_type": "code",
   "execution_count": 41,
   "metadata": {},
   "outputs": [
    {
     "name": "stdout",
     "output_type": "stream",
     "text": [
      "<class 'pandas.core.frame.DataFrame'>\n",
      "RangeIndex: 20442 entries, 0 to 20441\n",
      "Columns: 2393 entries, Col3 to Col2397\n",
      "dtypes: float64(848), int64(1545)\n",
      "memory usage: 373.2 MB\n"
     ]
    }
   ],
   "source": [
    "X2.info()"
   ]
  },
  {
   "cell_type": "code",
   "execution_count": 42,
   "metadata": {},
   "outputs": [],
   "source": [
    "from sklearn.impute import SimpleImputer\n",
    "fill_NaN = SimpleImputer(missing_values=np.nan,strategy='median')\n",
    "X = pd.DataFrame(fill_NaN.fit_transform(X2))\n",
    "X.columns = X2.columns\n",
    "X.index = X2.index"
   ]
  },
  {
   "cell_type": "code",
   "execution_count": 43,
   "metadata": {},
   "outputs": [
    {
     "name": "stdout",
     "output_type": "stream",
     "text": [
      "Prediction time: 1.29\n"
     ]
    }
   ],
   "source": [
    "start = time.time()\n",
    "prediction1 = lgbm.predict(X)\n",
    "end = time.time()\n",
    "pred_time = (end - start)\n",
    "print('Prediction time: {}'.format(round(pred_time, 3)))"
   ]
  },
  {
   "cell_type": "code",
   "execution_count": 44,
   "metadata": {},
   "outputs": [],
   "source": [
    "df1['Col2']=prediction1\n",
    "submission = df1[['Col1','Col2']] \n",
    "submission.to_csv('Final.csv', index=False)"
   ]
  },
  {
   "cell_type": "code",
   "execution_count": null,
   "metadata": {},
   "outputs": [],
   "source": []
  }
 ],
 "metadata": {
  "kernelspec": {
   "display_name": "Python 3",
   "language": "python",
   "name": "python3"
  },
  "language_info": {
   "codemirror_mode": {
    "name": "ipython",
    "version": 3
   },
   "file_extension": ".py",
   "mimetype": "text/x-python",
   "name": "python",
   "nbconvert_exporter": "python",
   "pygments_lexer": "ipython3",
   "version": "3.7.3"
  }
 },
 "nbformat": 4,
 "nbformat_minor": 2
}
